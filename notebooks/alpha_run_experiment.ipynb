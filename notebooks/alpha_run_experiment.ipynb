{
 "cells": [
  {
   "cell_type": "markdown",
   "metadata": {},
   "source": [
    "This notebook runs all the functions in notebooks 0 to 2 (e.g. 0_generate_datasets.ipynb). For additional information kindly refer to the repo document"
   ]
  },
  {
   "cell_type": "code",
   "execution_count": 1,
   "metadata": {},
   "outputs": [
    {
     "name": "stderr",
     "output_type": "stream",
     "text": [
      "Intel(R) Extension for Scikit-learn* enabled (https://github.com/intel/scikit-learn-intelex)\n"
     ]
    }
   ],
   "source": [
    "%load_ext autoreload\n",
    "%autoreload 2\n",
    "%matplotlib inline\n",
    "\n",
    "import warnings\n",
    "warnings.filterwarnings(\"ignore\")\n",
    "\n",
    "import numpy as np\n",
    "import pandas as pd\n",
    "import sys\n",
    "sys.path.append('../modules')\n",
    "import aftSandBox as sb"
   ]
  },
  {
   "cell_type": "code",
   "execution_count": 2,
   "metadata": {},
   "outputs": [],
   "source": [
    "from sklearn.linear_model import LogisticRegression, RidgeClassifier\n",
    "logr = LogisticRegression()\n",
    "ridge = RidgeClassifier()\n",
    "\n",
    "from sklearn.discriminant_analysis import QuadraticDiscriminantAnalysis, LinearDiscriminantAnalysis\n",
    "qda = QuadraticDiscriminantAnalysis()\n",
    "lda = LinearDiscriminantAnalysis()\n",
    "\n",
    "from sklearn.naive_bayes import GaussianNB\n",
    "gnb = GaussianNB()\n",
    "\n",
    "import sklearn.svm \n",
    "svm = sklearn.svm.SVC(kernel='linear', C=1.0, probability=True)\n",
    "\n",
    "from sklearn.ensemble import RandomForestClassifier, AdaBoostClassifier, GradientBoostingClassifier\n",
    "rforest = RandomForestClassifier()\n",
    "adaboost = AdaBoostClassifier()\n",
    "gradboost = GradientBoostingClassifier()\n",
    "\n",
    "from sklearn.neural_network import MLPClassifier\n",
    "mlp = MLPClassifier()\n",
    "\n",
    "from sklearn.neighbors import KNeighborsClassifier\n",
    "knn = KNeighborsClassifier()\n",
    "\n",
    "from xgboost import XGBClassifier\n",
    "xgb = XGBClassifier()\n",
    "\n",
    "from lightgbm import LGBMClassifier\n",
    "lgbm = LGBMClassifier()\n",
    "\n",
    "algos = [logr, rforest, gnb, qda, gradboost, mlp, knn, xgb, lda, adaboost]"
   ]
  },
  {
   "cell_type": "code",
   "execution_count": 3,
   "metadata": {},
   "outputs": [
    {
     "name": "stderr",
     "output_type": "stream",
     "text": [
      "Working:   0%|          | 0/3 [00:00<?, ?it/s]"
     ]
    },
    {
     "name": "stdout",
     "output_type": "stream",
     "text": [
      "Generating datasets for study 0\n",
      "Flipping labels for study 0\n",
      "Removing disparate impact for study 0\n",
      "Running unfair predictions for study 0\n"
     ]
    },
    {
     "name": "stderr",
     "output_type": "stream",
     "text": [
      "Intel(R) Extension for Scikit-learn* enabled (https://github.com/intel/scikit-learn-intelex)\n"
     ]
    },
    {
     "name": "stdout",
     "output_type": "stream",
     "text": [
      "Running fair_oversample predictions for study 0\n"
     ]
    },
    {
     "name": "stderr",
     "output_type": "stream",
     "text": [
      "Intel(R) Extension for Scikit-learn* enabled (https://github.com/intel/scikit-learn-intelex)\n"
     ]
    },
    {
     "name": "stdout",
     "output_type": "stream",
     "text": [
      "Running fair_dir predictions for study 0\n"
     ]
    },
    {
     "name": "stderr",
     "output_type": "stream",
     "text": [
      "Intel(R) Extension for Scikit-learn* enabled (https://github.com/intel/scikit-learn-intelex)\n"
     ]
    },
    {
     "name": "stdout",
     "output_type": "stream",
     "text": [
      "Running fair_ftu predictions for study 0\n"
     ]
    },
    {
     "name": "stderr",
     "output_type": "stream",
     "text": [
      "Intel(R) Extension for Scikit-learn* enabled (https://github.com/intel/scikit-learn-intelex)\n",
      "Working:  33%|###3      | 1/3 [7:34:45<15:09:31, 27285.86s/it]"
     ]
    },
    {
     "name": "stdout",
     "output_type": "stream",
     "text": [
      "Generating datasets for study 1\n",
      "Flipping labels for study 1\n",
      "Removing disparate impact for study 1\n",
      "Running unfair predictions for study 1\n"
     ]
    },
    {
     "name": "stderr",
     "output_type": "stream",
     "text": [
      "Intel(R) Extension for Scikit-learn* enabled (https://github.com/intel/scikit-learn-intelex)\n"
     ]
    },
    {
     "name": "stdout",
     "output_type": "stream",
     "text": [
      "Running fair_oversample predictions for study 1\n"
     ]
    },
    {
     "name": "stderr",
     "output_type": "stream",
     "text": [
      "Intel(R) Extension for Scikit-learn* enabled (https://github.com/intel/scikit-learn-intelex)\n"
     ]
    },
    {
     "name": "stdout",
     "output_type": "stream",
     "text": [
      "Running fair_dir predictions for study 1\n"
     ]
    },
    {
     "name": "stderr",
     "output_type": "stream",
     "text": [
      "Intel(R) Extension for Scikit-learn* enabled (https://github.com/intel/scikit-learn-intelex)\n"
     ]
    },
    {
     "name": "stdout",
     "output_type": "stream",
     "text": [
      "Running fair_ftu predictions for study 1\n"
     ]
    },
    {
     "name": "stderr",
     "output_type": "stream",
     "text": [
      "Intel(R) Extension for Scikit-learn* enabled (https://github.com/intel/scikit-learn-intelex)\n",
      "Working:  67%|######6   | 2/3 [14:41:49<7:18:28, 26308.30s/it]"
     ]
    },
    {
     "name": "stdout",
     "output_type": "stream",
     "text": [
      "Generating datasets for study 2\n",
      "Flipping labels for study 2\n",
      "Removing disparate impact for study 2\n",
      "Running unfair predictions for study 2\n"
     ]
    },
    {
     "name": "stderr",
     "output_type": "stream",
     "text": [
      "Intel(R) Extension for Scikit-learn* enabled (https://github.com/intel/scikit-learn-intelex)\n"
     ]
    },
    {
     "name": "stdout",
     "output_type": "stream",
     "text": [
      "Running fair_oversample predictions for study 2\n"
     ]
    },
    {
     "name": "stderr",
     "output_type": "stream",
     "text": [
      "Intel(R) Extension for Scikit-learn* enabled (https://github.com/intel/scikit-learn-intelex)\n"
     ]
    },
    {
     "name": "stdout",
     "output_type": "stream",
     "text": [
      "Running fair_dir predictions for study 2\n"
     ]
    },
    {
     "name": "stderr",
     "output_type": "stream",
     "text": [
      "Intel(R) Extension for Scikit-learn* enabled (https://github.com/intel/scikit-learn-intelex)\n"
     ]
    },
    {
     "name": "stdout",
     "output_type": "stream",
     "text": [
      "Running fair_ftu predictions for study 2\n"
     ]
    },
    {
     "name": "stderr",
     "output_type": "stream",
     "text": [
      "Intel(R) Extension for Scikit-learn* enabled (https://github.com/intel/scikit-learn-intelex)\n",
      "Working: 100%|##########| 3/3 [21:43:47<00:00, 26075.69s/it]  \n"
     ]
    }
   ],
   "source": [
    "from tqdm import tqdm\n",
    "\n",
    "# how many times to run the experiment\n",
    "n_experiments = 3\n",
    "\n",
    "# run enitre study n_experiments times\n",
    "for num in tqdm(range(n_experiments), desc=\"Working\", ascii=True, position=0, leave=True):\n",
    "    \n",
    "    # generate dataset\n",
    "    print(f'Generating datasets for study {num}')\n",
    "    sb.create_dataset(sample_sizes=[2000, 5000, 10000, 15000, 20000], \n",
    "                       n_features=10, \n",
    "                       n_informative=10, \n",
    "                       n_classes=2, \n",
    "                       class_separations=[0.05, 0.1, 0.5, 1, 5, 10, 15, 20], \n",
    "                       p_weights=[0.55, 0.35, 0.10], \n",
    "                       p_feature_size=3, \n",
    "                       p_informative=3, \n",
    "                       p_label='gender', \n",
    "                       save_path=f'../output/study{num}', \n",
    "                       log=True\n",
    "                       )\n",
    "    \n",
    "    # flip labels (see repo notes for more info)\n",
    "    print(f'Flipping labels for study {num}')\n",
    "    sb.flip_labels(target_col='accept',\n",
    "                   protected_col='gender', \n",
    "                   protected_classes_to_flip=[1,2], \n",
    "                   flip_percentages=[0.0, 0.1, 0.2, 0.3, 0.4, 0.5, 0.6, 0.7, 0.8, 0.9], \n",
    "                   data_loc=f'../output/study{num}/', \n",
    "                   save_path=f'../output/study{num}/flipped', \n",
    "                   log=True\n",
    "                   )\n",
    "    \n",
    "    # remove disparate impact\n",
    "    print(f'Removing disparate impact for study {num}')\n",
    "    sb.create_fair_impact(data_loc=f'../output/study{num}/flipped', \n",
    "                      save_path=f'../output/study{num}/direm', \n",
    "                      drop_cols = ['accept','sample_id', 'protected_id'], \n",
    "                      maj_group = 0, \n",
    "                      min_group = [1,2], \n",
    "                      protected_class = 'gender', \n",
    "                      label = ['flipped_accept'], \n",
    "                      disparate_repair_level = 1.0,\n",
    "                      )\n",
    "    \n",
    "    # unfair predictions (see repo notes for more info)\n",
    "    print(f'Running unfair predictions for study {num}')\n",
    "    sb.run_predictions(data_loc=f'../output/study{num}/flipped', \n",
    "                       X_features_drop=['sample_id','gender','accept','protected_id','flipped_accept'], \n",
    "                       y_target=['flipped_accept'], \n",
    "                       scimodels=algos, \n",
    "                       experiment_name='unfair', \n",
    "                       protected_col='gender', \n",
    "                       ground_truth_label='accept',\n",
    "                       results_file='../results/results_110224.csv',\n",
    "                       study_num=f'study{num}', \n",
    "                       log=True\n",
    "                       )\n",
    "    \n",
    "    print(f'Running fair_oversample predictions for study {num}')\n",
    "    # fair predictions (see repo notes for more info)\n",
    "    sb.run_predictions(data_loc=f'../output/study{num}/flipped', \n",
    "                       X_features_drop=['sample_id','accept','gender','protected_id','flipped_accept'], \n",
    "                       y_target=['flipped_accept'], \n",
    "                       scimodels=algos, \n",
    "                       experiment_name='fair_oversample', \n",
    "                       protected_col='gender', \n",
    "                       ground_truth_label='accept', \n",
    "                       results_file='../results/results_110224.csv', \n",
    "                       study_num=f'study{num}',\n",
    "                       log=True,\n",
    "                       oversample=True\n",
    "                       )\n",
    "    \n",
    "    print(f'Running fair_dir predictions for study {num}')\n",
    "    sb.run_predictions(data_loc=f'../output/study{num}/direm', \n",
    "                       X_features_drop=['sample_id','accept','gender','protected_id','flipped_accept'], \n",
    "                       y_target=['flipped_accept'], \n",
    "                       scimodels=algos, \n",
    "                       experiment_name='fair_dir', \n",
    "                       protected_col='gender', \n",
    "                       ground_truth_label='accept', \n",
    "                       results_file='../results/results_110224.csv', \n",
    "                       study_num=f'study{num}',\n",
    "                       log=True,\n",
    "                       )\n",
    "    \n",
    "    print(f'Running fair_ftu predictions for study {num}')\n",
    "    # fair predictions (see repo notes for more info)\n",
    "    sb.run_predictions(data_loc=f'../output/study{num}/flipped', \n",
    "                       X_features_drop=['sample_id','accept','gender','protected_id','flipped_accept','proc_feature_0','proc_feature_1', 'proc_feature_2'], \n",
    "                       y_target=['flipped_accept'], \n",
    "                       scimodels=algos, \n",
    "                       experiment_name='fair_ftu', \n",
    "                       protected_col='gender', \n",
    "                       ground_truth_label='accept', \n",
    "                       results_file='../results/results_110224.csv', \n",
    "                       study_num=f'study{num}',\n",
    "                       log=True,\n",
    "                       )"
   ]
  },
  {
   "cell_type": "code",
   "execution_count": null,
   "metadata": {},
   "outputs": [],
   "source": []
  },
  {
   "cell_type": "code",
   "execution_count": null,
   "metadata": {},
   "outputs": [],
   "source": []
  },
  {
   "cell_type": "code",
   "execution_count": null,
   "metadata": {},
   "outputs": [],
   "source": []
  },
  {
   "cell_type": "code",
   "execution_count": null,
   "metadata": {},
   "outputs": [],
   "source": []
  },
  {
   "cell_type": "code",
   "execution_count": null,
   "metadata": {},
   "outputs": [],
   "source": []
  }
 ],
 "metadata": {
  "kernelspec": {
   "display_name": "base",
   "language": "python",
   "name": "python3"
  },
  "language_info": {
   "codemirror_mode": {
    "name": "ipython",
    "version": 3
   },
   "file_extension": ".py",
   "mimetype": "text/x-python",
   "name": "python",
   "nbconvert_exporter": "python",
   "pygments_lexer": "ipython3",
   "version": "3.11.4"
  }
 },
 "nbformat": 4,
 "nbformat_minor": 2
}
