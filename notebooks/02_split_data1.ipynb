{
 "cells": [
  {
   "cell_type": "code",
   "execution_count": null,
   "id": "33fda87d-255e-42aa-8e72-95269886e915",
   "metadata": {},
   "outputs": [],
   "source": []
  },
  {
   "cell_type": "code",
   "execution_count": 4,
   "id": "c208e15d-05ef-41fe-8d08-f3ec3bf16fdf",
   "metadata": {},
   "outputs": [],
   "source": [
    "%load_ext autoreload\n",
    "%autoreload 2\n",
    "%matplotlib inline\n",
    "import warnings\n",
    "warnings.filterwarnings('ignore')"
   ]
  },
  {
   "cell_type": "code",
   "execution_count": 5,
   "id": "9e52f824-0a29-4411-abe0-a8d2434be4f3",
   "metadata": {},
   "outputs": [],
   "source": [
    "from  sklearn.datasets import make_regression\n",
    "import pandas as pd    \n",
    "import numpy as np\n",
    "import matplotlib.pyplot as plt\n",
    "import seaborn as sns\n",
    "%matplotlib inline\n",
    "\n",
    "# imports for data generator module\n",
    "import sys\n",
    "sys.path.append('../modules')\n",
    "import mods as md"
   ]
  },
  {
   "cell_type": "code",
   "execution_count": 3,
   "id": "6a20728c-a678-4cb6-bc51-cdc380337348",
   "metadata": {},
   "outputs": [
    {
     "data": {
      "text/plain": [
       "(1000, 12)"
      ]
     },
     "execution_count": 3,
     "metadata": {},
     "output_type": "execute_result"
    }
   ],
   "source": [
    "df=pd.read_csv('../output/dataset1.csv')\n",
    "df.shape"
   ]
  },
  {
   "cell_type": "code",
   "execution_count": 4,
   "id": "a359ad42-503f-4f43-b7ee-d56bfde5335e",
   "metadata": {},
   "outputs": [
    {
     "data": {
      "text/plain": [
       "Index(['var_0', 'var_1', 'var_2', 'var_3', 'var_4', 'var_5', 'var_6', 'var_7',\n",
       "       'target', 'id', 'race', 'race_string'],\n",
       "      dtype='object')"
      ]
     },
     "execution_count": 4,
     "metadata": {},
     "output_type": "execute_result"
    }
   ],
   "source": [
    "df.keys()"
   ]
  },
  {
   "cell_type": "code",
   "execution_count": 5,
   "id": "944642c6-6f6a-4096-8305-0caf526346b5",
   "metadata": {},
   "outputs": [
    {
     "data": {
      "text/plain": [
       "0    0.586\n",
       "1    0.414\n",
       "Name: target, dtype: float64"
      ]
     },
     "execution_count": 5,
     "metadata": {},
     "output_type": "execute_result"
    }
   ],
   "source": [
    "df['target'].value_counts(normalize=True)"
   ]
  },
  {
   "cell_type": "code",
   "execution_count": 6,
   "id": "7f29c85b-620d-4658-acfe-d3dccb638c90",
   "metadata": {},
   "outputs": [
    {
     "data": {
      "text/plain": [
       "(586, 12)"
      ]
     },
     "execution_count": 6,
     "metadata": {},
     "output_type": "execute_result"
    }
   ],
   "source": [
    "df_0 = df[df['target']==0]\n",
    "df_0 = df_0.sample(frac = 1)\n",
    "df_0 = df_0.reset_index(drop=True)\n",
    "df_0.shape"
   ]
  },
  {
   "cell_type": "code",
   "execution_count": 7,
   "id": "642538ae-b94d-45c5-9c72-cb7419f431bf",
   "metadata": {},
   "outputs": [
    {
     "data": {
      "text/plain": [
       "(414, 12)"
      ]
     },
     "execution_count": 7,
     "metadata": {},
     "output_type": "execute_result"
    }
   ],
   "source": [
    "df_1 = df[df['target']==1]\n",
    "df_1 = df_1.sample(frac = 1)\n",
    "df_1 = df_1.reset_index(drop=True)\n",
    "df_1.shape"
   ]
  },
  {
   "cell_type": "code",
   "execution_count": 8,
   "id": "edf10af3-6b7b-4460-9363-a17dabb07c85",
   "metadata": {},
   "outputs": [
    {
     "name": "stdout",
     "output_type": "stream",
     "text": [
      "195.33333333333334\n",
      "138.0\n"
     ]
    }
   ],
   "source": [
    "print(586/3)\n",
    "print(414/3)"
   ]
  },
  {
   "cell_type": "code",
   "execution_count": 9,
   "id": "f983ca69-8019-4ef1-8f5e-c4af4b6b09d9",
   "metadata": {},
   "outputs": [
    {
     "name": "stdout",
     "output_type": "stream",
     "text": [
      "138\n",
      "138\n",
      "138\n"
     ]
    }
   ],
   "source": [
    "df_1a = df_1.iloc[0:138,:]\n",
    "df_1b = df_1.iloc[138:276,:]\n",
    "df_1c = df_1.iloc[276:414,:]\n",
    "\n",
    "# print\n",
    "print(df_1a.shape[0])\n",
    "print(df_1b.shape[0])\n",
    "print(df_1c.shape[0])"
   ]
  },
  {
   "cell_type": "code",
   "execution_count": 10,
   "id": "2dc098aa-ec56-4685-910f-8710e76afb37",
   "metadata": {},
   "outputs": [
    {
     "name": "stdout",
     "output_type": "stream",
     "text": [
      "195\n",
      "195\n",
      "196\n"
     ]
    }
   ],
   "source": [
    "df_0a = df_0.iloc[0:195,:]\n",
    "df_0b = df_0.iloc[195:390,:]\n",
    "df_0c = df_0.iloc[390:586,:]\n",
    "\n",
    "# print\n",
    "print(df_0a.shape[0])\n",
    "print(df_0b.shape[0])\n",
    "print(df_0c.shape[0])"
   ]
  },
  {
   "cell_type": "code",
   "execution_count": null,
   "id": "3944edb3-0967-41d0-a13e-a56913b08f7a",
   "metadata": {},
   "outputs": [],
   "source": []
  },
  {
   "cell_type": "code",
   "execution_count": 11,
   "id": "87483fd4-cec4-4972-a2b7-6f36179bc783",
   "metadata": {},
   "outputs": [
    {
     "name": "stdout",
     "output_type": "stream",
     "text": [
      "(333, 12)\n",
      "(333, 12)\n",
      "(334, 12)\n"
     ]
    }
   ],
   "source": [
    "df_fold1 = pd.concat([df_1a, df_0a])\n",
    "df_fold1 = df_fold1.reset_index(drop=True)\n",
    "print(df_fold1.shape)\n",
    "\n",
    "df_fold2 = pd.concat([df_1b, df_0b])\n",
    "df_fold2 = df_fold2.reset_index(drop=True)\n",
    "print(df_fold2.shape)\n",
    "\n",
    "df_fold3 = pd.concat([df_1c, df_0c])\n",
    "df_fold3 = df_fold3.reset_index(drop=True)\n",
    "print(df_fold3.shape)"
   ]
  },
  {
   "cell_type": "code",
   "execution_count": 13,
   "id": "b8fab07b-dc08-4fe1-a152-3eaec117ae92",
   "metadata": {},
   "outputs": [],
   "source": [
    "df_fold1.to_csv('../output/dataset1_fold1.csv', index=False)\n",
    "df_fold2.to_csv('../output/dataset1_fold2.csv', index=False)\n",
    "df_fold3.to_csv('../output/dataset1_fold3.csv', index=False)"
   ]
  },
  {
   "cell_type": "code",
   "execution_count": 6,
   "id": "1982ec46-770a-45bc-bbdb-f63ff96b7d38",
   "metadata": {},
   "outputs": [],
   "source": [
    "df_fold1 = pd.read_csv('../output/dataset1_fold1.csv')\n",
    "df_fold2 = pd.read_csv('../output/dataset1_fold2.csv')\n",
    "df_fold3 = pd.read_csv('../output/dataset1_fold3.csv')"
   ]
  },
  {
   "cell_type": "code",
   "execution_count": 7,
   "id": "2dc6ab5a-2493-4e42-8c2b-3320446b63dd",
   "metadata": {},
   "outputs": [],
   "source": [
    "x1 = df_fold1.drop(['target', 'id', 'race', 'race_string'], 1)\n",
    "y1 = df_fold1['target']\n",
    "\n",
    "x2 = df_fold2.drop(['target', 'id', 'race', 'race_string'], 1)\n",
    "y2 = df_fold2['target']\n",
    "\n",
    "x3 = df_fold3.drop(['target', 'id', 'race', 'race_string'], 1)\n",
    "y3 = df_fold3['target']"
   ]
  },
  {
   "cell_type": "code",
   "execution_count": null,
   "id": "745ed9c9-ce70-4f46-8383-5cb6746a2392",
   "metadata": {},
   "outputs": [],
   "source": []
  },
  {
   "cell_type": "code",
   "execution_count": 8,
   "id": "1f376496-9991-44b9-a626-f487741635ef",
   "metadata": {},
   "outputs": [
    {
     "name": "stdout",
     "output_type": "stream",
     "text": [
      "now predicting with  LogisticRegression()\n",
      "now predicting with  RandomForestClassifier()\n",
      "now predicting with  LogisticRegression()\n",
      "now predicting with  RandomForestClassifier()\n",
      "now predicting with  LogisticRegression()\n",
      "now predicting with  RandomForestClassifier()\n"
     ]
    }
   ],
   "source": [
    "r1 = md.append_preds(main=df_fold1,\n",
    "                  x_data=[x2,x3,x1],\n",
    "                  y_data=[y2,y3,y1]\n",
    "                 )\n",
    "\n",
    "r2 = md.append_preds(main=df_fold2,\n",
    "                  x_data=[x1,x3,x2],\n",
    "                  y_data=[y1,y3,y2]\n",
    "                 )\n",
    "\n",
    "r3 = md.append_preds(main=df_fold3,\n",
    "                  x_data=[x1,x2,x3],\n",
    "                  y_data=[y1,y2,y3]\n",
    "                 )"
   ]
  },
  {
   "cell_type": "code",
   "execution_count": 9,
   "id": "c49e87b1-ceca-4940-874b-ea868db62055",
   "metadata": {},
   "outputs": [
    {
     "name": "stdout",
     "output_type": "stream",
     "text": [
      "(1000, 14)\n"
     ]
    }
   ],
   "source": [
    "results = pd.concat([r1,r2,r3])\n",
    "print(results.shape)"
   ]
  },
  {
   "cell_type": "code",
   "execution_count": null,
   "id": "020eda2a-bf70-4dee-ad4c-b5f3f3447b04",
   "metadata": {},
   "outputs": [],
   "source": []
  },
  {
   "cell_type": "code",
   "execution_count": null,
   "id": "8776012b-884f-4fde-bf28-749467b0524b",
   "metadata": {},
   "outputs": [],
   "source": []
  },
  {
   "cell_type": "code",
   "execution_count": 10,
   "id": "f1476277-6906-40e6-ace7-c5237935bdc4",
   "metadata": {},
   "outputs": [
    {
     "name": "stdout",
     "output_type": "stream",
     "text": [
      "found:  ['LogisticRegression_preds', 'RandomForestClassifier_preds']\n",
      "\n",
      "accuracy for LogisticRegression_preds : 0.95\n",
      "accuracy for RandomForestClassifier_preds : 0.96\n",
      "\n"
     ]
    },
    {
     "data": {
      "text/html": [
       "<div>\n",
       "<style scoped>\n",
       "    .dataframe tbody tr th:only-of-type {\n",
       "        vertical-align: middle;\n",
       "    }\n",
       "\n",
       "    .dataframe tbody tr th {\n",
       "        vertical-align: top;\n",
       "    }\n",
       "\n",
       "    .dataframe thead th {\n",
       "        text-align: right;\n",
       "    }\n",
       "</style>\n",
       "<table border=\"1\" class=\"dataframe\">\n",
       "  <thead>\n",
       "    <tr style=\"text-align: right;\">\n",
       "      <th></th>\n",
       "      <th>groups</th>\n",
       "      <th>LogisticRegression_preds</th>\n",
       "      <th>RandomForestClassifier_preds</th>\n",
       "    </tr>\n",
       "  </thead>\n",
       "  <tbody>\n",
       "    <tr>\n",
       "      <th>0</th>\n",
       "      <td>majority</td>\n",
       "      <td>1.000000</td>\n",
       "      <td>1.000000</td>\n",
       "    </tr>\n",
       "    <tr>\n",
       "      <th>1</th>\n",
       "      <td>minority</td>\n",
       "      <td>0.274175</td>\n",
       "      <td>0.260509</td>\n",
       "    </tr>\n",
       "  </tbody>\n",
       "</table>\n",
       "</div>"
      ],
      "text/plain": [
       "     groups  LogisticRegression_preds  RandomForestClassifier_preds\n",
       "0  majority                  1.000000                      1.000000\n",
       "1  minority                  0.274175                      0.260509"
      ]
     },
     "execution_count": 10,
     "metadata": {},
     "output_type": "execute_result"
    }
   ],
   "source": [
    "md.assess_preds(df=results, \n",
    "             target_col='target', \n",
    "             group_col='race_string'\n",
    "            )"
   ]
  },
  {
   "cell_type": "code",
   "execution_count": null,
   "id": "eb6936a4-52d0-4954-b0c9-65e2392da165",
   "metadata": {},
   "outputs": [],
   "source": []
  },
  {
   "cell_type": "code",
   "execution_count": 11,
   "id": "0381525f-0259-4746-92db-0dfa71659146",
   "metadata": {},
   "outputs": [
    {
     "data": {
      "text/html": [
       "<div>\n",
       "<style scoped>\n",
       "    .dataframe tbody tr th:only-of-type {\n",
       "        vertical-align: middle;\n",
       "    }\n",
       "\n",
       "    .dataframe tbody tr th {\n",
       "        vertical-align: top;\n",
       "    }\n",
       "\n",
       "    .dataframe thead th {\n",
       "        text-align: right;\n",
       "    }\n",
       "</style>\n",
       "<table border=\"1\" class=\"dataframe\">\n",
       "  <thead>\n",
       "    <tr style=\"text-align: right;\">\n",
       "      <th></th>\n",
       "      <th>var_0</th>\n",
       "      <th>var_1</th>\n",
       "      <th>var_2</th>\n",
       "      <th>var_3</th>\n",
       "      <th>var_4</th>\n",
       "      <th>var_5</th>\n",
       "      <th>var_6</th>\n",
       "      <th>var_7</th>\n",
       "      <th>target</th>\n",
       "    </tr>\n",
       "  </thead>\n",
       "  <tbody>\n",
       "    <tr>\n",
       "      <th>var_0</th>\n",
       "      <td>1.000000</td>\n",
       "      <td>0.052371</td>\n",
       "      <td>0.209533</td>\n",
       "      <td>0.326794</td>\n",
       "      <td>-0.256748</td>\n",
       "      <td>-0.184553</td>\n",
       "      <td>0.147915</td>\n",
       "      <td>-0.023513</td>\n",
       "      <td>-0.047691</td>\n",
       "    </tr>\n",
       "    <tr>\n",
       "      <th>var_1</th>\n",
       "      <td>0.052371</td>\n",
       "      <td>1.000000</td>\n",
       "      <td>0.265832</td>\n",
       "      <td>-0.126410</td>\n",
       "      <td>0.295946</td>\n",
       "      <td>0.715009</td>\n",
       "      <td>-0.292163</td>\n",
       "      <td>0.600586</td>\n",
       "      <td>-0.470184</td>\n",
       "    </tr>\n",
       "    <tr>\n",
       "      <th>var_2</th>\n",
       "      <td>0.209533</td>\n",
       "      <td>0.265832</td>\n",
       "      <td>1.000000</td>\n",
       "      <td>0.825960</td>\n",
       "      <td>0.183789</td>\n",
       "      <td>0.734839</td>\n",
       "      <td>0.250086</td>\n",
       "      <td>-0.447390</td>\n",
       "      <td>-0.543938</td>\n",
       "    </tr>\n",
       "    <tr>\n",
       "      <th>var_3</th>\n",
       "      <td>0.326794</td>\n",
       "      <td>-0.126410</td>\n",
       "      <td>0.825960</td>\n",
       "      <td>1.000000</td>\n",
       "      <td>-0.305982</td>\n",
       "      <td>0.425001</td>\n",
       "      <td>0.590793</td>\n",
       "      <td>-0.814437</td>\n",
       "      <td>-0.388685</td>\n",
       "    </tr>\n",
       "    <tr>\n",
       "      <th>var_4</th>\n",
       "      <td>-0.256748</td>\n",
       "      <td>0.295946</td>\n",
       "      <td>0.183789</td>\n",
       "      <td>-0.305982</td>\n",
       "      <td>1.000000</td>\n",
       "      <td>0.181165</td>\n",
       "      <td>-0.829883</td>\n",
       "      <td>0.388251</td>\n",
       "      <td>0.167168</td>\n",
       "    </tr>\n",
       "    <tr>\n",
       "      <th>var_5</th>\n",
       "      <td>-0.184553</td>\n",
       "      <td>0.715009</td>\n",
       "      <td>0.734839</td>\n",
       "      <td>0.425001</td>\n",
       "      <td>0.181165</td>\n",
       "      <td>1.000000</td>\n",
       "      <td>0.149843</td>\n",
       "      <td>-0.003789</td>\n",
       "      <td>-0.718045</td>\n",
       "    </tr>\n",
       "    <tr>\n",
       "      <th>var_6</th>\n",
       "      <td>0.147915</td>\n",
       "      <td>-0.292163</td>\n",
       "      <td>0.250086</td>\n",
       "      <td>0.590793</td>\n",
       "      <td>-0.829883</td>\n",
       "      <td>0.149843</td>\n",
       "      <td>1.000000</td>\n",
       "      <td>-0.554736</td>\n",
       "      <td>-0.467790</td>\n",
       "    </tr>\n",
       "    <tr>\n",
       "      <th>var_7</th>\n",
       "      <td>-0.023513</td>\n",
       "      <td>0.600586</td>\n",
       "      <td>-0.447390</td>\n",
       "      <td>-0.814437</td>\n",
       "      <td>0.388251</td>\n",
       "      <td>-0.003789</td>\n",
       "      <td>-0.554736</td>\n",
       "      <td>1.000000</td>\n",
       "      <td>-0.000600</td>\n",
       "    </tr>\n",
       "    <tr>\n",
       "      <th>target</th>\n",
       "      <td>-0.047691</td>\n",
       "      <td>-0.470184</td>\n",
       "      <td>-0.543938</td>\n",
       "      <td>-0.388685</td>\n",
       "      <td>0.167168</td>\n",
       "      <td>-0.718045</td>\n",
       "      <td>-0.467790</td>\n",
       "      <td>-0.000600</td>\n",
       "      <td>1.000000</td>\n",
       "    </tr>\n",
       "  </tbody>\n",
       "</table>\n",
       "</div>"
      ],
      "text/plain": [
       "           var_0     var_1     var_2     var_3     var_4     var_5     var_6  \\\n",
       "var_0   1.000000  0.052371  0.209533  0.326794 -0.256748 -0.184553  0.147915   \n",
       "var_1   0.052371  1.000000  0.265832 -0.126410  0.295946  0.715009 -0.292163   \n",
       "var_2   0.209533  0.265832  1.000000  0.825960  0.183789  0.734839  0.250086   \n",
       "var_3   0.326794 -0.126410  0.825960  1.000000 -0.305982  0.425001  0.590793   \n",
       "var_4  -0.256748  0.295946  0.183789 -0.305982  1.000000  0.181165 -0.829883   \n",
       "var_5  -0.184553  0.715009  0.734839  0.425001  0.181165  1.000000  0.149843   \n",
       "var_6   0.147915 -0.292163  0.250086  0.590793 -0.829883  0.149843  1.000000   \n",
       "var_7  -0.023513  0.600586 -0.447390 -0.814437  0.388251 -0.003789 -0.554736   \n",
       "target -0.047691 -0.470184 -0.543938 -0.388685  0.167168 -0.718045 -0.467790   \n",
       "\n",
       "           var_7    target  \n",
       "var_0  -0.023513 -0.047691  \n",
       "var_1   0.600586 -0.470184  \n",
       "var_2  -0.447390 -0.543938  \n",
       "var_3  -0.814437 -0.388685  \n",
       "var_4   0.388251  0.167168  \n",
       "var_5  -0.003789 -0.718045  \n",
       "var_6  -0.554736 -0.467790  \n",
       "var_7   1.000000 -0.000600  \n",
       "target -0.000600  1.000000  "
      ]
     },
     "execution_count": 11,
     "metadata": {},
     "output_type": "execute_result"
    }
   ],
   "source": [
    "results[['var_0','var_1','var_2','var_3','var_4','var_5','var_6','var_7','target']].corr()"
   ]
  },
  {
   "cell_type": "code",
   "execution_count": 12,
   "id": "2c7d6aaa-31a5-454e-a5bd-390c26a8bc94",
   "metadata": {},
   "outputs": [],
   "source": [
    "x1_fair = df_fold1.drop(['target', 'id', 'race', 'race_string', 'var_0','var_4','var_3','var_6'], 1)\n",
    "\n",
    "x2_fair = df_fold2.drop(['target', 'id', 'race', 'race_string', 'var_0','var_4','var_3','var_6'], 1)\n",
    "\n",
    "x3_fair = df_fold3.drop(['target', 'id', 'race', 'race_string', 'var_0','var_4','var_3','var_6'], 1)"
   ]
  },
  {
   "cell_type": "code",
   "execution_count": 13,
   "id": "aa31f9e4-d0f1-434c-bfb4-8ab7d206ad65",
   "metadata": {},
   "outputs": [
    {
     "name": "stdout",
     "output_type": "stream",
     "text": [
      "now predicting with  LogisticRegression()\n",
      "now predicting with  RandomForestClassifier()\n",
      "now predicting with  LogisticRegression()\n",
      "now predicting with  RandomForestClassifier()\n",
      "now predicting with  LogisticRegression()\n",
      "now predicting with  RandomForestClassifier()\n"
     ]
    }
   ],
   "source": [
    "r1_fair = md.append_preds(main=df_fold1,\n",
    "                  x_data=[x2_fair,x3_fair,x1_fair],\n",
    "                  y_data=[y2, y3, y1]\n",
    "                 )\n",
    "\n",
    "r2_fair = md.append_preds(main=df_fold2,\n",
    "                  x_data=[x1_fair,x3_fair,x2_fair],\n",
    "                  y_data=[y1, y3, y2]\n",
    "                 )\n",
    "\n",
    "r3_fair = md.append_preds(main=df_fold3,\n",
    "                  x_data=[x1_fair,x2_fair,x3_fair],\n",
    "                  y_data=[y1, y2, y3]\n",
    "                 )"
   ]
  },
  {
   "cell_type": "code",
   "execution_count": 14,
   "id": "1ff37fc2-b4ef-4a08-892c-23e8013a3c75",
   "metadata": {},
   "outputs": [
    {
     "name": "stdout",
     "output_type": "stream",
     "text": [
      "(1000, 14)\n"
     ]
    }
   ],
   "source": [
    "results_fair = pd.concat([r1_fair,r2_fair,r3_fair])\n",
    "print(results_fair.shape)"
   ]
  },
  {
   "cell_type": "code",
   "execution_count": 16,
   "id": "adf874c0-53eb-4d33-a50f-3a6d4229830f",
   "metadata": {},
   "outputs": [
    {
     "name": "stdout",
     "output_type": "stream",
     "text": [
      "found:  ['LogisticRegression_preds', 'RandomForestClassifier_preds']\n",
      "\n",
      "accuracy for LogisticRegression_preds : 0.86\n",
      "accuracy for RandomForestClassifier_preds : 0.9\n",
      "\n"
     ]
    },
    {
     "data": {
      "text/html": [
       "<div>\n",
       "<style scoped>\n",
       "    .dataframe tbody tr th:only-of-type {\n",
       "        vertical-align: middle;\n",
       "    }\n",
       "\n",
       "    .dataframe tbody tr th {\n",
       "        vertical-align: top;\n",
       "    }\n",
       "\n",
       "    .dataframe thead th {\n",
       "        text-align: right;\n",
       "    }\n",
       "</style>\n",
       "<table border=\"1\" class=\"dataframe\">\n",
       "  <thead>\n",
       "    <tr style=\"text-align: right;\">\n",
       "      <th></th>\n",
       "      <th>groups</th>\n",
       "      <th>LogisticRegression_preds</th>\n",
       "      <th>RandomForestClassifier_preds</th>\n",
       "    </tr>\n",
       "  </thead>\n",
       "  <tbody>\n",
       "    <tr>\n",
       "      <th>0</th>\n",
       "      <td>majority</td>\n",
       "      <td>1.00000</td>\n",
       "      <td>1.000000</td>\n",
       "    </tr>\n",
       "    <tr>\n",
       "      <th>1</th>\n",
       "      <td>minority</td>\n",
       "      <td>0.56637</td>\n",
       "      <td>0.438373</td>\n",
       "    </tr>\n",
       "  </tbody>\n",
       "</table>\n",
       "</div>"
      ],
      "text/plain": [
       "     groups  LogisticRegression_preds  RandomForestClassifier_preds\n",
       "0  majority                   1.00000                      1.000000\n",
       "1  minority                   0.56637                      0.438373"
      ]
     },
     "execution_count": 16,
     "metadata": {},
     "output_type": "execute_result"
    }
   ],
   "source": [
    "md.assess_preds(df=results_fair, \n",
    "             target_col='target', \n",
    "             group_col='race_string'\n",
    "            )"
   ]
  },
  {
   "cell_type": "code",
   "execution_count": 18,
   "id": "0d6439af-e722-4617-ab20-b33d2fc7b9ac",
   "metadata": {},
   "outputs": [
    {
     "data": {
      "text/plain": [
       "0.505"
      ]
     },
     "execution_count": 18,
     "metadata": {},
     "output_type": "execute_result"
    }
   ],
   "source": [
    "(.57+.44)/2"
   ]
  },
  {
   "cell_type": "code",
   "execution_count": 19,
   "id": "1308d001-e09e-4a52-8c8b-1ffeb7e87e0e",
   "metadata": {},
   "outputs": [
    {
     "name": "stdout",
     "output_type": "stream",
     "text": [
      "0.902\n",
      "0.936\n"
     ]
    }
   ],
   "source": [
    "print(md.get_accuracy(results_fair['LogisticRegression_preds'], results['LogisticRegression_preds']))\n",
    "print(md.get_accuracy(results_fair['RandomForestClassifier_preds'], results['RandomForestClassifier_preds']))"
   ]
  },
  {
   "cell_type": "code",
   "execution_count": null,
   "id": "47084088-a942-4ca8-9f09-ca88999eeb73",
   "metadata": {},
   "outputs": [],
   "source": []
  }
 ],
 "metadata": {
  "kernelspec": {
   "display_name": "Python 3",
   "language": "python",
   "name": "python3"
  },
  "language_info": {
   "codemirror_mode": {
    "name": "ipython",
    "version": 3
   },
   "file_extension": ".py",
   "mimetype": "text/x-python",
   "name": "python",
   "nbconvert_exporter": "python",
   "pygments_lexer": "ipython3",
   "version": "3.8.8"
  }
 },
 "nbformat": 4,
 "nbformat_minor": 5
}
