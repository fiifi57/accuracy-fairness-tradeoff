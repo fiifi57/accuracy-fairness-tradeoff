{
 "cells": [
  {
   "cell_type": "code",
   "execution_count": null,
   "id": "33fda87d-255e-42aa-8e72-95269886e915",
   "metadata": {},
   "outputs": [],
   "source": []
  },
  {
   "cell_type": "code",
   "execution_count": 1,
   "id": "c208e15d-05ef-41fe-8d08-f3ec3bf16fdf",
   "metadata": {},
   "outputs": [],
   "source": [
    "%load_ext autoreload\n",
    "%autoreload 2\n",
    "%matplotlib inline\n",
    "import warnings\n",
    "warnings.filterwarnings('ignore')"
   ]
  },
  {
   "cell_type": "code",
   "execution_count": 2,
   "id": "9e52f824-0a29-4411-abe0-a8d2434be4f3",
   "metadata": {},
   "outputs": [],
   "source": [
    "from  sklearn.datasets import make_regression\n",
    "import pandas as pd    \n",
    "import numpy as np\n",
    "import matplotlib.pyplot as plt\n",
    "import seaborn as sns\n",
    "%matplotlib inline\n",
    "\n",
    "# imports for data generator module\n",
    "import sys\n",
    "sys.path.append('../modules')\n",
    "import mods as md"
   ]
  },
  {
   "cell_type": "code",
   "execution_count": 3,
   "id": "818df5d4-8807-4bd2-90b0-9f03e811aea9",
   "metadata": {},
   "outputs": [
    {
     "data": {
      "text/html": [
       "<div>\n",
       "<style scoped>\n",
       "    .dataframe tbody tr th:only-of-type {\n",
       "        vertical-align: middle;\n",
       "    }\n",
       "\n",
       "    .dataframe tbody tr th {\n",
       "        vertical-align: top;\n",
       "    }\n",
       "\n",
       "    .dataframe thead th {\n",
       "        text-align: right;\n",
       "    }\n",
       "</style>\n",
       "<table border=\"1\" class=\"dataframe\">\n",
       "  <thead>\n",
       "    <tr style=\"text-align: right;\">\n",
       "      <th></th>\n",
       "      <th>var_0</th>\n",
       "      <th>var_1</th>\n",
       "      <th>var_2</th>\n",
       "      <th>var_3</th>\n",
       "      <th>var_4</th>\n",
       "      <th>var_5</th>\n",
       "      <th>var_6</th>\n",
       "      <th>var_7</th>\n",
       "      <th>target</th>\n",
       "      <th>id</th>\n",
       "    </tr>\n",
       "  </thead>\n",
       "  <tbody>\n",
       "    <tr>\n",
       "      <th>0</th>\n",
       "      <td>-1.975243</td>\n",
       "      <td>1.557541</td>\n",
       "      <td>1.310879</td>\n",
       "      <td>-1.534616</td>\n",
       "      <td>-0.992461</td>\n",
       "      <td>-1.430650</td>\n",
       "      <td>-1.381833</td>\n",
       "      <td>-1.236911</td>\n",
       "      <td>1</td>\n",
       "      <td>0</td>\n",
       "    </tr>\n",
       "    <tr>\n",
       "      <th>1</th>\n",
       "      <td>-0.336595</td>\n",
       "      <td>0.661430</td>\n",
       "      <td>-0.594174</td>\n",
       "      <td>-0.395712</td>\n",
       "      <td>-1.726424</td>\n",
       "      <td>3.235802</td>\n",
       "      <td>3.031592</td>\n",
       "      <td>0.317949</td>\n",
       "      <td>0</td>\n",
       "      <td>1</td>\n",
       "    </tr>\n",
       "    <tr>\n",
       "      <th>2</th>\n",
       "      <td>1.507141</td>\n",
       "      <td>0.178155</td>\n",
       "      <td>3.084860</td>\n",
       "      <td>0.022601</td>\n",
       "      <td>-0.378209</td>\n",
       "      <td>0.739125</td>\n",
       "      <td>0.060548</td>\n",
       "      <td>-2.093390</td>\n",
       "      <td>1</td>\n",
       "      <td>2</td>\n",
       "    </tr>\n",
       "    <tr>\n",
       "      <th>3</th>\n",
       "      <td>-0.325510</td>\n",
       "      <td>0.414466</td>\n",
       "      <td>0.756271</td>\n",
       "      <td>-0.435419</td>\n",
       "      <td>-0.373922</td>\n",
       "      <td>-0.412957</td>\n",
       "      <td>-0.773985</td>\n",
       "      <td>-0.268729</td>\n",
       "      <td>1</td>\n",
       "      <td>3</td>\n",
       "    </tr>\n",
       "    <tr>\n",
       "      <th>4</th>\n",
       "      <td>1.884774</td>\n",
       "      <td>0.663888</td>\n",
       "      <td>0.734704</td>\n",
       "      <td>0.933428</td>\n",
       "      <td>2.221682</td>\n",
       "      <td>0.078681</td>\n",
       "      <td>2.168926</td>\n",
       "      <td>-1.713323</td>\n",
       "      <td>1</td>\n",
       "      <td>4</td>\n",
       "    </tr>\n",
       "  </tbody>\n",
       "</table>\n",
       "</div>"
      ],
      "text/plain": [
       "      var_0     var_1     var_2     var_3     var_4     var_5     var_6  \\\n",
       "0 -1.975243  1.557541  1.310879 -1.534616 -0.992461 -1.430650 -1.381833   \n",
       "1 -0.336595  0.661430 -0.594174 -0.395712 -1.726424  3.235802  3.031592   \n",
       "2  1.507141  0.178155  3.084860  0.022601 -0.378209  0.739125  0.060548   \n",
       "3 -0.325510  0.414466  0.756271 -0.435419 -0.373922 -0.412957 -0.773985   \n",
       "4  1.884774  0.663888  0.734704  0.933428  2.221682  0.078681  2.168926   \n",
       "\n",
       "      var_7  target  id  \n",
       "0 -1.236911       1   0  \n",
       "1  0.317949       0   1  \n",
       "2 -2.093390       1   2  \n",
       "3 -0.268729       1   3  \n",
       "4 -1.713323       1   4  "
      ]
     },
     "execution_count": 3,
     "metadata": {},
     "output_type": "execute_result"
    }
   ],
   "source": [
    "# create dataset\n",
    "df = md.generate_data(sample_size=1000, \n",
    "                      n_features=8, \n",
    "                      informative_features=5, \n",
    "                      redundant_features=3, \n",
    "                      n_target=2, \n",
    "                      n_target_flip=0.4, \n",
    "                      random_state=1, \n",
    "                      pred_ease=0.5, \n",
    "                      col_prefix='var_', \n",
    "                      target_weight=None)\n",
    "df.head()"
   ]
  },
  {
   "cell_type": "code",
   "execution_count": 4,
   "id": "5e3f2d33-089e-4184-bf57-05e15bd298c1",
   "metadata": {},
   "outputs": [
    {
     "data": {
      "text/plain": [
       "1    501\n",
       "0    499\n",
       "Name: target, dtype: int64"
      ]
     },
     "execution_count": 4,
     "metadata": {},
     "output_type": "execute_result"
    }
   ],
   "source": [
    "df['target'].value_counts()"
   ]
  },
  {
   "cell_type": "code",
   "execution_count": 30,
   "id": "4fee7439-4f17-4c38-823b-d1432c5512e3",
   "metadata": {},
   "outputs": [
    {
     "name": "stdout",
     "output_type": "stream",
     "text": [
      "clustering based on KMEANS\n",
      "\n"
     ]
    },
    {
     "data": {
      "text/plain": [
       "1    648\n",
       "0    352\n",
       "Name: race, dtype: int64"
      ]
     },
     "execution_count": 30,
     "metadata": {},
     "output_type": "execute_result"
    }
   ],
   "source": [
    "df2 = md.create_clusters(df=df, \n",
    "                       cluster_features=['var_0','var_1','var_3'], \n",
    "                       n_clusters=2, \n",
    "                       cluster_col_name='race', \n",
    "                       tool='kmeans')\n",
    "df2['race'].value_counts()"
   ]
  },
  {
   "cell_type": "code",
   "execution_count": 31,
   "id": "7b351b13-84fd-4b85-8144-5d45afd0e407",
   "metadata": {},
   "outputs": [
    {
     "data": {
      "text/html": [
       "<div>\n",
       "<style scoped>\n",
       "    .dataframe tbody tr th:only-of-type {\n",
       "        vertical-align: middle;\n",
       "    }\n",
       "\n",
       "    .dataframe tbody tr th {\n",
       "        vertical-align: top;\n",
       "    }\n",
       "\n",
       "    .dataframe thead th {\n",
       "        text-align: right;\n",
       "    }\n",
       "</style>\n",
       "<table border=\"1\" class=\"dataframe\">\n",
       "  <thead>\n",
       "    <tr style=\"text-align: right;\">\n",
       "      <th></th>\n",
       "      <th>race</th>\n",
       "      <th>target</th>\n",
       "    </tr>\n",
       "  </thead>\n",
       "  <tbody>\n",
       "    <tr>\n",
       "      <th>race</th>\n",
       "      <td>1.000000</td>\n",
       "      <td>-0.090655</td>\n",
       "    </tr>\n",
       "    <tr>\n",
       "      <th>target</th>\n",
       "      <td>-0.090655</td>\n",
       "      <td>1.000000</td>\n",
       "    </tr>\n",
       "  </tbody>\n",
       "</table>\n",
       "</div>"
      ],
      "text/plain": [
       "            race    target\n",
       "race    1.000000 -0.090655\n",
       "target -0.090655  1.000000"
      ]
     },
     "execution_count": 31,
     "metadata": {},
     "output_type": "execute_result"
    }
   ],
   "source": [
    "df2[['race','target']].corr()"
   ]
  },
  {
   "cell_type": "code",
   "execution_count": 32,
   "id": "a359ad42-503f-4f43-b7ee-d56bfde5335e",
   "metadata": {},
   "outputs": [
    {
     "data": {
      "text/html": [
       "<div>\n",
       "<style scoped>\n",
       "    .dataframe tbody tr th:only-of-type {\n",
       "        vertical-align: middle;\n",
       "    }\n",
       "\n",
       "    .dataframe tbody tr th {\n",
       "        vertical-align: top;\n",
       "    }\n",
       "\n",
       "    .dataframe thead tr th {\n",
       "        text-align: left;\n",
       "    }\n",
       "\n",
       "    .dataframe thead tr:last-of-type th {\n",
       "        text-align: right;\n",
       "    }\n",
       "</style>\n",
       "<table border=\"1\" class=\"dataframe\">\n",
       "  <thead>\n",
       "    <tr>\n",
       "      <th></th>\n",
       "      <th>mean</th>\n",
       "    </tr>\n",
       "    <tr>\n",
       "      <th></th>\n",
       "      <th>target</th>\n",
       "    </tr>\n",
       "    <tr>\n",
       "      <th>race</th>\n",
       "      <th></th>\n",
       "    </tr>\n",
       "  </thead>\n",
       "  <tbody>\n",
       "    <tr>\n",
       "      <th>0</th>\n",
       "      <td>0.562500</td>\n",
       "    </tr>\n",
       "    <tr>\n",
       "      <th>1</th>\n",
       "      <td>0.467593</td>\n",
       "    </tr>\n",
       "  </tbody>\n",
       "</table>\n",
       "</div>"
      ],
      "text/plain": [
       "          mean\n",
       "        target\n",
       "race          \n",
       "0     0.562500\n",
       "1     0.467593"
      ]
     },
     "execution_count": 32,
     "metadata": {},
     "output_type": "execute_result"
    }
   ],
   "source": [
    "p = pd.pivot_table(df2,index=['race'],\n",
    "               values=['target',],\n",
    "               aggfunc=['mean'])\n",
    "p"
   ]
  },
  {
   "cell_type": "code",
   "execution_count": 18,
   "id": "6b7a60fb-55fa-460c-805b-a0025ff6b383",
   "metadata": {},
   "outputs": [
    {
     "data": {
      "text/plain": [
       "0.8181818181818181"
      ]
     },
     "execution_count": 18,
     "metadata": {},
     "output_type": "execute_result"
    }
   ],
   "source": [
    ".45/.55"
   ]
  },
  {
   "cell_type": "code",
   "execution_count": 45,
   "id": "7f29c85b-620d-4658-acfe-d3dccb638c90",
   "metadata": {},
   "outputs": [],
   "source": [
    "from sklearn.linear_model import LogisticRegression\n",
    "from sklearn.ensemble import RandomForestClassifier\n",
    "from sklearn.model_selection import train_test_split\n",
    "\n",
    "logr = LogisticRegression()\n",
    "rforest = RandomForestClassifier()"
   ]
  },
  {
   "cell_type": "code",
   "execution_count": 46,
   "id": "ac3d2f3b-b317-4ba1-8488-0379e721e657",
   "metadata": {},
   "outputs": [],
   "source": [
    "from sklearn.metrics import precision_score, accuracy_score, recall_score, balanced_accuracy_score\n",
    "def get_accuracy(y_true, y_predict):\n",
    "    return accuracy_score(y_true, y_predict)\n",
    "\n",
    "def get_balanced_accuracy(y_true, y_predict):\n",
    "    return balanced_accuracy_score(y_true, y_predict)"
   ]
  },
  {
   "cell_type": "code",
   "execution_count": 47,
   "id": "1ff37fc2-b4ef-4a08-892c-23e8013a3c75",
   "metadata": {},
   "outputs": [],
   "source": [
    "X = df2.drop(['target','id','race'],1)\n",
    "y = df2['target']"
   ]
  },
  {
   "cell_type": "code",
   "execution_count": 48,
   "id": "adf874c0-53eb-4d33-a50f-3a6d4229830f",
   "metadata": {},
   "outputs": [],
   "source": [
    "X_train, X_test, y_train, y_test = train_test_split(X, y, test_size=0.3, random_state=1)"
   ]
  },
  {
   "cell_type": "code",
   "execution_count": 49,
   "id": "1308d001-e09e-4a52-8c8b-1ffeb7e87e0e",
   "metadata": {},
   "outputs": [
    {
     "name": "stdout",
     "output_type": "stream",
     "text": [
      "test_accuracy:  0.8133333333333334\n"
     ]
    }
   ],
   "source": [
    "logr.fit(X_train, y_train)\n",
    "logr_pred = logr.predict(X_test)\n",
    "print('test_accuracy: ', get_accuracy(y_test, logr_pred))"
   ]
  },
  {
   "cell_type": "code",
   "execution_count": 50,
   "id": "8bfa34f3-9728-4ec9-9687-0db929f33d8e",
   "metadata": {},
   "outputs": [
    {
     "name": "stdout",
     "output_type": "stream",
     "text": [
      "test_accuracy:  0.78\n"
     ]
    }
   ],
   "source": [
    "rforest.fit(X_train, y_train)\n",
    "rforest_pred = rforest.predict(X_test)\n",
    "print('test_accuracy: ', get_accuracy(y_test, rforest_pred))"
   ]
  },
  {
   "cell_type": "code",
   "execution_count": null,
   "id": "d1274e1b-e89d-4b38-a6d1-f404dca0e456",
   "metadata": {},
   "outputs": [],
   "source": []
  },
  {
   "cell_type": "code",
   "execution_count": 51,
   "id": "5df74576-d3b7-49cb-9edc-b1bb1e7d65f2",
   "metadata": {},
   "outputs": [],
   "source": [
    "df2.to_csv('../output/dataset3.csv', index=False)"
   ]
  },
  {
   "cell_type": "code",
   "execution_count": null,
   "id": "21bbf130-4348-47c7-aa53-9f161da68ba7",
   "metadata": {},
   "outputs": [],
   "source": []
  },
  {
   "cell_type": "code",
   "execution_count": null,
   "id": "a304b652-a86f-4b7d-be14-96b3696c35ec",
   "metadata": {},
   "outputs": [],
   "source": []
  },
  {
   "cell_type": "code",
   "execution_count": null,
   "id": "60050353-3b36-4adc-a1cb-4f5f69c3d08a",
   "metadata": {},
   "outputs": [],
   "source": []
  },
  {
   "cell_type": "code",
   "execution_count": null,
   "id": "3d1f6c9f-a506-489a-a05d-d2c42a6b4edb",
   "metadata": {},
   "outputs": [],
   "source": []
  },
  {
   "cell_type": "code",
   "execution_count": null,
   "id": "e291ea2f-ec7e-4356-9bfd-3262bfe1a1c6",
   "metadata": {},
   "outputs": [],
   "source": []
  }
 ],
 "metadata": {
  "kernelspec": {
   "display_name": "Python 3",
   "language": "python",
   "name": "python3"
  },
  "language_info": {
   "codemirror_mode": {
    "name": "ipython",
    "version": 3
   },
   "file_extension": ".py",
   "mimetype": "text/x-python",
   "name": "python",
   "nbconvert_exporter": "python",
   "pygments_lexer": "ipython3",
   "version": "3.8.8"
  }
 },
 "nbformat": 4,
 "nbformat_minor": 5
}
