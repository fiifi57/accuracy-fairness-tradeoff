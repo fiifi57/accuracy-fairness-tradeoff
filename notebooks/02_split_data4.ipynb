{
 "cells": [
  {
   "cell_type": "code",
   "execution_count": null,
   "id": "33fda87d-255e-42aa-8e72-95269886e915",
   "metadata": {},
   "outputs": [],
   "source": []
  },
  {
   "cell_type": "code",
   "execution_count": 1,
   "id": "c208e15d-05ef-41fe-8d08-f3ec3bf16fdf",
   "metadata": {},
   "outputs": [],
   "source": [
    "%load_ext autoreload\n",
    "%autoreload 2\n",
    "%matplotlib inline\n",
    "import warnings\n",
    "warnings.filterwarnings('ignore')"
   ]
  },
  {
   "cell_type": "code",
   "execution_count": 2,
   "id": "9e52f824-0a29-4411-abe0-a8d2434be4f3",
   "metadata": {},
   "outputs": [],
   "source": [
    "from  sklearn.datasets import make_regression\n",
    "import pandas as pd    \n",
    "import numpy as np\n",
    "import matplotlib.pyplot as plt\n",
    "import seaborn as sns\n",
    "%matplotlib inline\n",
    "\n",
    "# imports for data generator module\n",
    "import sys\n",
    "sys.path.append('../modules')\n",
    "import mods as md"
   ]
  },
  {
   "cell_type": "code",
   "execution_count": 3,
   "id": "6a20728c-a678-4cb6-bc51-cdc380337348",
   "metadata": {},
   "outputs": [
    {
     "data": {
      "text/plain": [
       "(1000, 12)"
      ]
     },
     "execution_count": 3,
     "metadata": {},
     "output_type": "execute_result"
    }
   ],
   "source": [
    "df=pd.read_csv('../output/dataset4.csv')\n",
    "df.shape"
   ]
  },
  {
   "cell_type": "code",
   "execution_count": 4,
   "id": "a359ad42-503f-4f43-b7ee-d56bfde5335e",
   "metadata": {},
   "outputs": [
    {
     "data": {
      "text/plain": [
       "Index(['var_0', 'var_1', 'var_2', 'var_3', 'var_4', 'var_5', 'var_6', 'var_7',\n",
       "       'target', 'id', 'race', 'race_string'],\n",
       "      dtype='object')"
      ]
     },
     "execution_count": 4,
     "metadata": {},
     "output_type": "execute_result"
    }
   ],
   "source": [
    "df.keys()"
   ]
  },
  {
   "cell_type": "code",
   "execution_count": 5,
   "id": "944642c6-6f6a-4096-8305-0caf526346b5",
   "metadata": {},
   "outputs": [
    {
     "data": {
      "text/plain": [
       "0    0.557\n",
       "1    0.443\n",
       "Name: target, dtype: float64"
      ]
     },
     "execution_count": 5,
     "metadata": {},
     "output_type": "execute_result"
    }
   ],
   "source": [
    "df['target'].value_counts(normalize=True)"
   ]
  },
  {
   "cell_type": "code",
   "execution_count": 6,
   "id": "7f29c85b-620d-4658-acfe-d3dccb638c90",
   "metadata": {},
   "outputs": [
    {
     "data": {
      "text/plain": [
       "(557, 12)"
      ]
     },
     "execution_count": 6,
     "metadata": {},
     "output_type": "execute_result"
    }
   ],
   "source": [
    "df_0 = df[df['target']==0]\n",
    "df_0 = df_0.sample(frac = 1)\n",
    "df_0 = df_0.reset_index(drop=True)\n",
    "df_0.shape"
   ]
  },
  {
   "cell_type": "code",
   "execution_count": 7,
   "id": "642538ae-b94d-45c5-9c72-cb7419f431bf",
   "metadata": {},
   "outputs": [
    {
     "data": {
      "text/plain": [
       "(443, 12)"
      ]
     },
     "execution_count": 7,
     "metadata": {},
     "output_type": "execute_result"
    }
   ],
   "source": [
    "df_1 = df[df['target']==1]\n",
    "df_1 = df_1.sample(frac = 1)\n",
    "df_1 = df_1.reset_index(drop=True)\n",
    "df_1.shape"
   ]
  },
  {
   "cell_type": "code",
   "execution_count": 8,
   "id": "edf10af3-6b7b-4460-9363-a17dabb07c85",
   "metadata": {},
   "outputs": [
    {
     "name": "stdout",
     "output_type": "stream",
     "text": [
      "185.66666666666666\n",
      "147.66666666666666\n"
     ]
    }
   ],
   "source": [
    "print(557/3)\n",
    "print(443/3)"
   ]
  },
  {
   "cell_type": "code",
   "execution_count": 9,
   "id": "2dc098aa-ec56-4685-910f-8710e76afb37",
   "metadata": {},
   "outputs": [
    {
     "name": "stdout",
     "output_type": "stream",
     "text": [
      "185\n",
      "186\n",
      "186\n"
     ]
    }
   ],
   "source": [
    "df_0a = df_0.iloc[0:185,:]\n",
    "df_0b = df_0.iloc[185:371,:]\n",
    "df_0c = df_0.iloc[371:557,:]\n",
    "\n",
    "# print\n",
    "print(df_0a.shape[0])\n",
    "print(df_0b.shape[0])\n",
    "print(df_0c.shape[0])"
   ]
  },
  {
   "cell_type": "code",
   "execution_count": 10,
   "id": "f983ca69-8019-4ef1-8f5e-c4af4b6b09d9",
   "metadata": {},
   "outputs": [
    {
     "name": "stdout",
     "output_type": "stream",
     "text": [
      "148\n",
      "147\n",
      "148\n"
     ]
    }
   ],
   "source": [
    "df_1a = df_1.iloc[0:148,:]\n",
    "df_1b = df_1.iloc[148:295,:]\n",
    "df_1c = df_1.iloc[295:443,:]\n",
    "\n",
    "# print\n",
    "print(df_1a.shape[0])\n",
    "print(df_1b.shape[0])\n",
    "print(df_1c.shape[0])"
   ]
  },
  {
   "cell_type": "code",
   "execution_count": null,
   "id": "3944edb3-0967-41d0-a13e-a56913b08f7a",
   "metadata": {},
   "outputs": [],
   "source": []
  },
  {
   "cell_type": "code",
   "execution_count": 11,
   "id": "87483fd4-cec4-4972-a2b7-6f36179bc783",
   "metadata": {},
   "outputs": [
    {
     "name": "stdout",
     "output_type": "stream",
     "text": [
      "(333, 12)\n",
      "(333, 12)\n",
      "(334, 12)\n"
     ]
    }
   ],
   "source": [
    "df_fold1 = pd.concat([df_1a, df_0a])\n",
    "df_fold1 = df_fold1.reset_index(drop=True)\n",
    "print(df_fold1.shape)\n",
    "\n",
    "df_fold2 = pd.concat([df_1b, df_0b])\n",
    "df_fold2 = df_fold2.reset_index(drop=True)\n",
    "print(df_fold2.shape)\n",
    "\n",
    "df_fold3 = pd.concat([df_1c, df_0c])\n",
    "df_fold3 = df_fold3.reset_index(drop=True)\n",
    "print(df_fold3.shape)"
   ]
  },
  {
   "cell_type": "code",
   "execution_count": 12,
   "id": "b8fab07b-dc08-4fe1-a152-3eaec117ae92",
   "metadata": {},
   "outputs": [],
   "source": [
    "df_fold1.to_csv('../output/dataset4_fold1.csv', index=False)\n",
    "df_fold2.to_csv('../output/dataset4_fold2.csv', index=False)\n",
    "df_fold3.to_csv('../output/dataset4_fold3.csv', index=False)"
   ]
  },
  {
   "cell_type": "code",
   "execution_count": 13,
   "id": "2dc6ab5a-2493-4e42-8c2b-3320446b63dd",
   "metadata": {},
   "outputs": [],
   "source": [
    "x1 = df_fold1.drop(['target', 'id', 'race', 'race_string'], 1)\n",
    "y1 = df_fold1['target']\n",
    "\n",
    "x2 = df_fold2.drop(['target', 'id', 'race', 'race_string'], 1)\n",
    "y2 = df_fold2['target']\n",
    "\n",
    "x3 = df_fold3.drop(['target', 'id', 'race', 'race_string'], 1)\n",
    "y3 = df_fold3['target']"
   ]
  },
  {
   "cell_type": "code",
   "execution_count": null,
   "id": "745ed9c9-ce70-4f46-8383-5cb6746a2392",
   "metadata": {},
   "outputs": [],
   "source": []
  },
  {
   "cell_type": "code",
   "execution_count": 14,
   "id": "b96bdf74-6233-46a4-94c3-7331f900477f",
   "metadata": {},
   "outputs": [],
   "source": [
    "def append_preds(main, x_data, y_data):\n",
    "    from sklearn.linear_model import LogisticRegression\n",
    "    from sklearn.ensemble import RandomForestClassifier\n",
    "    from sklearn.model_selection import train_test_split\n",
    "    \n",
    "    logr = LogisticRegression()\n",
    "    rforest = RandomForestClassifier()\n",
    "    \n",
    "    scimodel = [logr, rforest]\n",
    "    \n",
    "    df = main.copy()\n",
    "    \n",
    "    if (len(x_data) == 3) and (len(y_data) == 3):\n",
    "        df1 = x_data[0].copy()\n",
    "        df2 = x_data[1].copy()\n",
    "        df3 = x_data[2].copy()\n",
    "        \n",
    "        dfs_x = [x_data[0], x_data[1]]\n",
    "        X_train = pd.concat(dfs_x)\n",
    "        y_train =  y_data[0].append(y_data[1])\n",
    "        X_test =  x_data[2]\n",
    "        y_test = y_data[2]\n",
    "        \n",
    "        for s in scimodel:\n",
    "            print('now predicting with ', s)\n",
    "            s.fit(X_train, y_train)\n",
    "            preds = s.predict(X_test)\n",
    "       \n",
    "            df[type(s).__name__+'_preds'] = preds\n",
    "        \n",
    "        return df\n",
    "    \n",
    "    else:\n",
    "        print('!DataframeError: expected 2 frames each, got ', len(x_data), ' for X and ', len(y_data), ' for y')"
   ]
  },
  {
   "cell_type": "code",
   "execution_count": 15,
   "id": "1f376496-9991-44b9-a626-f487741635ef",
   "metadata": {},
   "outputs": [
    {
     "name": "stdout",
     "output_type": "stream",
     "text": [
      "now predicting with  LogisticRegression()\n",
      "now predicting with  RandomForestClassifier()\n",
      "now predicting with  LogisticRegression()\n",
      "now predicting with  RandomForestClassifier()\n",
      "now predicting with  LogisticRegression()\n",
      "now predicting with  RandomForestClassifier()\n"
     ]
    }
   ],
   "source": [
    "r1 = append_preds(main=df_fold1,\n",
    "                  x_data=[x2,x3,x1],\n",
    "                  y_data=[y2,y3,y1]\n",
    "                 )\n",
    "\n",
    "r2 = append_preds(main=df_fold2,\n",
    "                  x_data=[x1,x3,x2],\n",
    "                  y_data=[y1,y3,y2]\n",
    "                 )\n",
    "\n",
    "r3 = append_preds(main=df_fold3,\n",
    "                  x_data=[x1,x2,x3],\n",
    "                  y_data=[y1,y2,y3]\n",
    "                 )"
   ]
  },
  {
   "cell_type": "code",
   "execution_count": 16,
   "id": "c49e87b1-ceca-4940-874b-ea868db62055",
   "metadata": {},
   "outputs": [
    {
     "name": "stdout",
     "output_type": "stream",
     "text": [
      "(1000, 14)\n"
     ]
    }
   ],
   "source": [
    "results = pd.concat([r1,r2,r3])\n",
    "print(results.shape)"
   ]
  },
  {
   "cell_type": "code",
   "execution_count": null,
   "id": "020eda2a-bf70-4dee-ad4c-b5f3f3447b04",
   "metadata": {},
   "outputs": [],
   "source": []
  },
  {
   "cell_type": "code",
   "execution_count": 17,
   "id": "8776012b-884f-4fde-bf28-749467b0524b",
   "metadata": {},
   "outputs": [],
   "source": [
    "def get_accuracy(y_true, y_predict):\n",
    "    from sklearn.metrics import accuracy_score\n",
    "    return accuracy_score(y_true, y_predict)\n",
    "\n",
    "def get_balanced_accuracy(y_true, y_predict):\n",
    "    from sklearn.metrics import balanced_accuracy_score\n",
    "    return balanced_accuracy_score(y_true, y_predict)\n",
    "\n",
    "def assess_preds(df, target_col, group_col):\n",
    "    z = df.copy()\n",
    "    # select out t5 cols\n",
    "    pred_cols=[]\n",
    "    for col in z.keys():\n",
    "        if 'pred' in col:\n",
    "            pred_cols.append(col)\n",
    "    print('found: ', pred_cols)\n",
    "    print()\n",
    "    \n",
    "    unique_groups = z[group_col].unique()\n",
    "    new_df = pd.DataFrame()\n",
    "    new_df['groups'] = unique_groups\n",
    "    \n",
    "    for pr in pred_cols:\n",
    "        print('accuracy for',pr, ':', round(get_accuracy(z[target_col], z[pr]), 2))\n",
    "        maj = z[z[group_col]=='majority']\n",
    "        maj_ratio = len(maj[maj[pr]==1])/len(maj)\n",
    "        \n",
    "        group_ratios=[]\n",
    "        for g in z[group_col].unique():\n",
    "            n = z[z[group_col]==g]\n",
    "            total_g = len(n)\n",
    "            total_sel = len(n[n[pr]==1])\n",
    "            sr = total_sel/total_g\n",
    "            air = sr/maj_ratio\n",
    "            group_ratios.append(air)\n",
    "        new_df[pr] = group_ratios\n",
    "    print()\n",
    "    return new_df"
   ]
  },
  {
   "cell_type": "code",
   "execution_count": 18,
   "id": "f1476277-6906-40e6-ace7-c5237935bdc4",
   "metadata": {},
   "outputs": [
    {
     "name": "stdout",
     "output_type": "stream",
     "text": [
      "found:  ['LogisticRegression_preds', 'RandomForestClassifier_preds']\n",
      "\n",
      "accuracy for LogisticRegression_preds : 0.64\n",
      "accuracy for RandomForestClassifier_preds : 0.65\n",
      "\n"
     ]
    },
    {
     "data": {
      "text/html": [
       "<div>\n",
       "<style scoped>\n",
       "    .dataframe tbody tr th:only-of-type {\n",
       "        vertical-align: middle;\n",
       "    }\n",
       "\n",
       "    .dataframe tbody tr th {\n",
       "        vertical-align: top;\n",
       "    }\n",
       "\n",
       "    .dataframe thead th {\n",
       "        text-align: right;\n",
       "    }\n",
       "</style>\n",
       "<table border=\"1\" class=\"dataframe\">\n",
       "  <thead>\n",
       "    <tr style=\"text-align: right;\">\n",
       "      <th></th>\n",
       "      <th>groups</th>\n",
       "      <th>LogisticRegression_preds</th>\n",
       "      <th>RandomForestClassifier_preds</th>\n",
       "    </tr>\n",
       "  </thead>\n",
       "  <tbody>\n",
       "    <tr>\n",
       "      <th>0</th>\n",
       "      <td>minority</td>\n",
       "      <td>0.411994</td>\n",
       "      <td>0.556222</td>\n",
       "    </tr>\n",
       "    <tr>\n",
       "      <th>1</th>\n",
       "      <td>majority</td>\n",
       "      <td>1.000000</td>\n",
       "      <td>1.000000</td>\n",
       "    </tr>\n",
       "  </tbody>\n",
       "</table>\n",
       "</div>"
      ],
      "text/plain": [
       "     groups  LogisticRegression_preds  RandomForestClassifier_preds\n",
       "0  minority                  0.411994                      0.556222\n",
       "1  majority                  1.000000                      1.000000"
      ]
     },
     "execution_count": 18,
     "metadata": {},
     "output_type": "execute_result"
    }
   ],
   "source": [
    "assess_preds(df=results, \n",
    "             target_col='target', \n",
    "             group_col='race_string'\n",
    "            )"
   ]
  },
  {
   "cell_type": "code",
   "execution_count": null,
   "id": "eb6936a4-52d0-4954-b0c9-65e2392da165",
   "metadata": {},
   "outputs": [],
   "source": []
  },
  {
   "cell_type": "code",
   "execution_count": 19,
   "id": "89a3d3f7-ef8f-4660-8366-fad9259cecbc",
   "metadata": {},
   "outputs": [
    {
     "data": {
      "text/html": [
       "<div>\n",
       "<style scoped>\n",
       "    .dataframe tbody tr th:only-of-type {\n",
       "        vertical-align: middle;\n",
       "    }\n",
       "\n",
       "    .dataframe tbody tr th {\n",
       "        vertical-align: top;\n",
       "    }\n",
       "\n",
       "    .dataframe thead th {\n",
       "        text-align: right;\n",
       "    }\n",
       "</style>\n",
       "<table border=\"1\" class=\"dataframe\">\n",
       "  <thead>\n",
       "    <tr style=\"text-align: right;\">\n",
       "      <th></th>\n",
       "      <th>var_1</th>\n",
       "      <th>var_2</th>\n",
       "      <th>var_3</th>\n",
       "      <th>var_4</th>\n",
       "      <th>var_5</th>\n",
       "      <th>var_6</th>\n",
       "      <th>var_7</th>\n",
       "    </tr>\n",
       "  </thead>\n",
       "  <tbody>\n",
       "    <tr>\n",
       "      <th>var_1</th>\n",
       "      <td>1.000000</td>\n",
       "      <td>0.096728</td>\n",
       "      <td>-0.488299</td>\n",
       "      <td>0.015062</td>\n",
       "      <td>0.013288</td>\n",
       "      <td>0.124825</td>\n",
       "      <td>0.158567</td>\n",
       "    </tr>\n",
       "    <tr>\n",
       "      <th>var_2</th>\n",
       "      <td>0.096728</td>\n",
       "      <td>1.000000</td>\n",
       "      <td>-0.316842</td>\n",
       "      <td>-0.358270</td>\n",
       "      <td>0.001438</td>\n",
       "      <td>-0.613094</td>\n",
       "      <td>-0.780040</td>\n",
       "    </tr>\n",
       "    <tr>\n",
       "      <th>var_3</th>\n",
       "      <td>-0.488299</td>\n",
       "      <td>-0.316842</td>\n",
       "      <td>1.000000</td>\n",
       "      <td>0.787636</td>\n",
       "      <td>-0.234122</td>\n",
       "      <td>0.216120</td>\n",
       "      <td>0.201550</td>\n",
       "    </tr>\n",
       "    <tr>\n",
       "      <th>var_4</th>\n",
       "      <td>0.015062</td>\n",
       "      <td>-0.358270</td>\n",
       "      <td>0.787636</td>\n",
       "      <td>1.000000</td>\n",
       "      <td>-0.610233</td>\n",
       "      <td>0.132296</td>\n",
       "      <td>0.266185</td>\n",
       "    </tr>\n",
       "    <tr>\n",
       "      <th>var_5</th>\n",
       "      <td>0.013288</td>\n",
       "      <td>0.001438</td>\n",
       "      <td>-0.234122</td>\n",
       "      <td>-0.610233</td>\n",
       "      <td>1.000000</td>\n",
       "      <td>0.555451</td>\n",
       "      <td>0.081272</td>\n",
       "    </tr>\n",
       "    <tr>\n",
       "      <th>var_6</th>\n",
       "      <td>0.124825</td>\n",
       "      <td>-0.613094</td>\n",
       "      <td>0.216120</td>\n",
       "      <td>0.132296</td>\n",
       "      <td>0.555451</td>\n",
       "      <td>1.000000</td>\n",
       "      <td>0.343706</td>\n",
       "    </tr>\n",
       "    <tr>\n",
       "      <th>var_7</th>\n",
       "      <td>0.158567</td>\n",
       "      <td>-0.780040</td>\n",
       "      <td>0.201550</td>\n",
       "      <td>0.266185</td>\n",
       "      <td>0.081272</td>\n",
       "      <td>0.343706</td>\n",
       "      <td>1.000000</td>\n",
       "    </tr>\n",
       "  </tbody>\n",
       "</table>\n",
       "</div>"
      ],
      "text/plain": [
       "          var_1     var_2     var_3     var_4     var_5     var_6     var_7\n",
       "var_1  1.000000  0.096728 -0.488299  0.015062  0.013288  0.124825  0.158567\n",
       "var_2  0.096728  1.000000 -0.316842 -0.358270  0.001438 -0.613094 -0.780040\n",
       "var_3 -0.488299 -0.316842  1.000000  0.787636 -0.234122  0.216120  0.201550\n",
       "var_4  0.015062 -0.358270  0.787636  1.000000 -0.610233  0.132296  0.266185\n",
       "var_5  0.013288  0.001438 -0.234122 -0.610233  1.000000  0.555451  0.081272\n",
       "var_6  0.124825 -0.613094  0.216120  0.132296  0.555451  1.000000  0.343706\n",
       "var_7  0.158567 -0.780040  0.201550  0.266185  0.081272  0.343706  1.000000"
      ]
     },
     "execution_count": 19,
     "metadata": {},
     "output_type": "execute_result"
    }
   ],
   "source": [
    "df[['var_1','var_2','var_3','var_4','var_5','var_6','var_7']].corr()"
   ]
  },
  {
   "cell_type": "code",
   "execution_count": 40,
   "id": "2c7d6aaa-31a5-454e-a5bd-390c26a8bc94",
   "metadata": {},
   "outputs": [],
   "source": [
    "x1_fair = df_fold1.drop(['target', 'id', 'race', 'race_string', 'var_1','var_3','var_7','var_2'], 1)\n",
    "\n",
    "x2_fair = df_fold2.drop(['target', 'id', 'race', 'race_string', 'var_1','var_3','var_7','var_2'], 1)\n",
    "\n",
    "x3_fair = df_fold3.drop(['target', 'id', 'race', 'race_string', 'var_1','var_3','var_7','var_2'], 1)"
   ]
  },
  {
   "cell_type": "code",
   "execution_count": 41,
   "id": "aa31f9e4-d0f1-434c-bfb4-8ab7d206ad65",
   "metadata": {},
   "outputs": [
    {
     "name": "stdout",
     "output_type": "stream",
     "text": [
      "now predicting with  LogisticRegression()\n",
      "now predicting with  RandomForestClassifier()\n",
      "now predicting with  LogisticRegression()\n",
      "now predicting with  RandomForestClassifier()\n",
      "now predicting with  LogisticRegression()\n",
      "now predicting with  RandomForestClassifier()\n"
     ]
    }
   ],
   "source": [
    "r1_fair = append_preds(main=df_fold1,\n",
    "                  x_data=[x2_fair,x3_fair,x1_fair],\n",
    "                  y_data=[y2, y3, y1]\n",
    "                 )\n",
    "\n",
    "r2_fair = append_preds(main=df_fold2,\n",
    "                  x_data=[x1_fair,x3_fair,x2_fair],\n",
    "                  y_data=[y1, y3, y2]\n",
    "                 )\n",
    "\n",
    "r3_fair = append_preds(main=df_fold3,\n",
    "                  x_data=[x1_fair,x2_fair,x3_fair],\n",
    "                  y_data=[y1, y2, y3]\n",
    "                 )"
   ]
  },
  {
   "cell_type": "code",
   "execution_count": 42,
   "id": "1ff37fc2-b4ef-4a08-892c-23e8013a3c75",
   "metadata": {},
   "outputs": [
    {
     "name": "stdout",
     "output_type": "stream",
     "text": [
      "(1000, 14)\n"
     ]
    }
   ],
   "source": [
    "results_fair = pd.concat([r1_fair,r2_fair,r3_fair])\n",
    "print(results_fair.shape)"
   ]
  },
  {
   "cell_type": "code",
   "execution_count": 43,
   "id": "adf874c0-53eb-4d33-a50f-3a6d4229830f",
   "metadata": {},
   "outputs": [
    {
     "name": "stdout",
     "output_type": "stream",
     "text": [
      "found:  ['LogisticRegression_preds', 'RandomForestClassifier_preds']\n",
      "\n",
      "accuracy for LogisticRegression_preds : 0.63\n",
      "accuracy for RandomForestClassifier_preds : 0.6\n",
      "\n"
     ]
    },
    {
     "data": {
      "text/html": [
       "<div>\n",
       "<style scoped>\n",
       "    .dataframe tbody tr th:only-of-type {\n",
       "        vertical-align: middle;\n",
       "    }\n",
       "\n",
       "    .dataframe tbody tr th {\n",
       "        vertical-align: top;\n",
       "    }\n",
       "\n",
       "    .dataframe thead th {\n",
       "        text-align: right;\n",
       "    }\n",
       "</style>\n",
       "<table border=\"1\" class=\"dataframe\">\n",
       "  <thead>\n",
       "    <tr style=\"text-align: right;\">\n",
       "      <th></th>\n",
       "      <th>groups</th>\n",
       "      <th>LogisticRegression_preds</th>\n",
       "      <th>RandomForestClassifier_preds</th>\n",
       "    </tr>\n",
       "  </thead>\n",
       "  <tbody>\n",
       "    <tr>\n",
       "      <th>0</th>\n",
       "      <td>minority</td>\n",
       "      <td>0.810877</td>\n",
       "      <td>0.786634</td>\n",
       "    </tr>\n",
       "    <tr>\n",
       "      <th>1</th>\n",
       "      <td>majority</td>\n",
       "      <td>1.000000</td>\n",
       "      <td>1.000000</td>\n",
       "    </tr>\n",
       "  </tbody>\n",
       "</table>\n",
       "</div>"
      ],
      "text/plain": [
       "     groups  LogisticRegression_preds  RandomForestClassifier_preds\n",
       "0  minority                  0.810877                      0.786634\n",
       "1  majority                  1.000000                      1.000000"
      ]
     },
     "execution_count": 43,
     "metadata": {},
     "output_type": "execute_result"
    }
   ],
   "source": [
    "assess_preds(df=results_fair, \n",
    "             target_col='target', \n",
    "             group_col='race_string'\n",
    "            )"
   ]
  },
  {
   "cell_type": "code",
   "execution_count": 44,
   "id": "1308d001-e09e-4a52-8c8b-1ffeb7e87e0e",
   "metadata": {},
   "outputs": [
    {
     "name": "stdout",
     "output_type": "stream",
     "text": [
      "0.875\n",
      "0.762\n"
     ]
    }
   ],
   "source": [
    "print(get_accuracy(results_fair['LogisticRegression_preds'], results['LogisticRegression_preds']))\n",
    "print(get_accuracy(results_fair['RandomForestClassifier_preds'], results['RandomForestClassifier_preds']))"
   ]
  },
  {
   "cell_type": "code",
   "execution_count": 46,
   "id": "8bfa34f3-9728-4ec9-9687-0db929f33d8e",
   "metadata": {},
   "outputs": [
    {
     "data": {
      "text/plain": [
       "0.8200000000000001"
      ]
     },
     "execution_count": 46,
     "metadata": {},
     "output_type": "execute_result"
    }
   ],
   "source": [
    "(.88+.76)/2"
   ]
  },
  {
   "cell_type": "code",
   "execution_count": null,
   "id": "d1274e1b-e89d-4b38-a6d1-f404dca0e456",
   "metadata": {},
   "outputs": [],
   "source": []
  }
 ],
 "metadata": {
  "kernelspec": {
   "display_name": "Python 3",
   "language": "python",
   "name": "python3"
  },
  "language_info": {
   "codemirror_mode": {
    "name": "ipython",
    "version": 3
   },
   "file_extension": ".py",
   "mimetype": "text/x-python",
   "name": "python",
   "nbconvert_exporter": "python",
   "pygments_lexer": "ipython3",
   "version": "3.8.8"
  }
 },
 "nbformat": 4,
 "nbformat_minor": 5
}
